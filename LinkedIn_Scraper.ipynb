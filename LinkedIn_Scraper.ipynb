{
 "cells": [
  {
   "cell_type": "code",
   "execution_count": 1,
   "id": "0fdc218d",
   "metadata": {},
   "outputs": [],
   "source": [
    "import requests \n",
    "from bs4 import BeautifulSoup\n",
    "import pandas as pd"
   ]
  },
  {
   "cell_type": "markdown",
   "id": "02bcd0df",
   "metadata": {},
   "source": [
    "**scrapping job listings**"
   ]
  },
  {
   "cell_type": "code",
   "execution_count": 16,
   "id": "26877527",
   "metadata": {},
   "outputs": [
    {
     "name": "stdout",
     "output_type": "stream",
     "text": [
      "Job Title: Data Science Intern, Algorithms (Summer 2025)\n",
      "Job Link: https://www.linkedin.com/jobs/view/data-science-intern-algorithms-summer-2025-at-lyft-4025915134?position=1&pageNum=0&refId=XZoMTWC%2B9hRla2LAhmSpsw%3D%3D&trackingId=PmfsgbF%2BovLkpnDA4tRtnA%3D%3D\n",
      "\n",
      "Job Title: Machine Learning Internship - Summer 2025\n",
      "Job Link: https://www.linkedin.com/jobs/view/machine-learning-internship-summer-2025-at-covar-4012948264?position=2&pageNum=0&refId=XZoMTWC%2B9hRla2LAhmSpsw%3D%3D&trackingId=DgisExNbo%2FXy%2BYc5DduCAA%3D%3D\n",
      "\n",
      "Job Title: AI, ML and Computer Vision Software, Summer 2025 Internships\n",
      "Job Link: https://www.linkedin.com/jobs/view/ai-ml-and-computer-vision-software-summer-2025-internships-at-rivian-4039095472?position=3&pageNum=0&refId=XZoMTWC%2B9hRla2LAhmSpsw%3D%3D&trackingId=aRG8XoRjfaN8oSwkLYNASA%3D%3D\n",
      "\n",
      "Job Title: Machine Learning Intern\n",
      "Job Link: https://www.linkedin.com/jobs/view/machine-learning-intern-at-searce-inc-4046186107?position=4&pageNum=0&refId=XZoMTWC%2B9hRla2LAhmSpsw%3D%3D&trackingId=4woFizFO7TA%2FklEEAvKWxg%3D%3D\n",
      "\n",
      "Job Title: Machine Learning Intern- Summer 2025\n",
      "Job Link: https://www.linkedin.com/jobs/view/machine-learning-intern-summer-2025-at-wayfair-4030778290?position=5&pageNum=0&refId=XZoMTWC%2B9hRla2LAhmSpsw%3D%3D&trackingId=i73RKD7aEuWaat9s4QP%2FvA%3D%3D\n",
      "\n",
      "Job Title: Machine Learning Intern\n",
      "Job Link: https://www.linkedin.com/jobs/view/machine-learning-intern-at-ibotta-4023583403?position=6&pageNum=0&refId=XZoMTWC%2B9hRla2LAhmSpsw%3D%3D&trackingId=IyKnRObzVtsWWjUaMKV8IA%3D%3D\n",
      "\n",
      "Job Title: Data Science - Intern (Summer 2025)\n",
      "Job Link: https://www.linkedin.com/jobs/view/data-science-intern-summer-2025-at-c3-ai-4014154076?position=7&pageNum=0&refId=XZoMTWC%2B9hRla2LAhmSpsw%3D%3D&trackingId=4a24o9IEf1xEOS9qX36mRg%3D%3D\n",
      "\n",
      "Job Title: Intern Machine Learning\n",
      "Job Link: https://www.linkedin.com/jobs/view/intern-machine-learning-at-arm-4035651634?position=8&pageNum=0&refId=XZoMTWC%2B9hRla2LAhmSpsw%3D%3D&trackingId=ntpgfD31HibGL3qW1qHkEg%3D%3D\n",
      "\n",
      "Job Title: UIUC Cohort - Year Long Technology Internships (Summer 2025 - Spring 2026)\n",
      "Job Link: https://www.linkedin.com/jobs/view/uiuc-cohort-year-long-technology-internships-summer-2025-spring-2026-at-cme-group-4045866017?position=9&pageNum=0&refId=XZoMTWC%2B9hRla2LAhmSpsw%3D%3D&trackingId=ghBLSUL%2Fu2HLp7pBwIL1YA%3D%3D\n",
      "\n",
      "Job Title: Intern Machine Learning\n",
      "Job Link: https://www.linkedin.com/jobs/view/intern-machine-learning-at-arm-4039702948?position=10&pageNum=0&refId=XZoMTWC%2B9hRla2LAhmSpsw%3D%3D&trackingId=Xx2iDsWBDZx1a8Jrt5CpYg%3D%3D\n",
      "\n",
      "Job Title: Summer 2025 - Bioanalysis Artificial Intelligence and Machine Learning Internship\n",
      "Job Link: https://www.linkedin.com/jobs/view/summer-2025-bioanalysis-artificial-intelligence-and-machine-learning-internship-at-bristol-myers-squibb-4029110540?position=11&pageNum=0&refId=XZoMTWC%2B9hRla2LAhmSpsw%3D%3D&trackingId=KgqTBDWQBtEN9qRXSu4w0g%3D%3D\n",
      "\n",
      "Job Title: AI Intern\n",
      "Job Link: https://www.linkedin.com/jobs/view/ai-intern-at-sgk-4039920745?position=12&pageNum=0&refId=XZoMTWC%2B9hRla2LAhmSpsw%3D%3D&trackingId=Fz56KCEe0yZb9Lp9OPvSHw%3D%3D\n",
      "\n",
      "Job Title: Data Science Intern\n",
      "Job Link: https://www.linkedin.com/jobs/view/data-science-intern-at-moloco-4016995558?position=13&pageNum=0&refId=XZoMTWC%2B9hRla2LAhmSpsw%3D%3D&trackingId=OIE1%2BgoVwPBjmMYUfxEFPA%3D%3D\n",
      "\n",
      "Job Title: Summer 2025 Software Internship\n",
      "Job Link: https://www.linkedin.com/jobs/view/summer-2025-software-internship-at-t-mobile-4052797338?position=14&pageNum=0&refId=XZoMTWC%2B9hRla2LAhmSpsw%3D%3D&trackingId=LLmIZO3FZgDKnKk3f0t4IA%3D%3D\n",
      "\n",
      "Job Title: Research Internship\n",
      "Job Link: https://www.linkedin.com/jobs/view/research-internship-at-cohere-3961368121?position=15&pageNum=0&refId=XZoMTWC%2B9hRla2LAhmSpsw%3D%3D&trackingId=52x3M8RDJs%2BZfTFe1d%2FRTw%3D%3D\n",
      "\n",
      "Job Title: Machine Learning & Artificial Intelligence Engineering Internship – Summer 2025\n",
      "Job Link: https://www.linkedin.com/jobs/view/machine-learning-artificial-intelligence-engineering-internship-%E2%80%93-summer-2025-at-qualcomm-4001618068?position=16&pageNum=0&refId=XZoMTWC%2B9hRla2LAhmSpsw%3D%3D&trackingId=bKrkyLb1wfzjbFlgBpsZqA%3D%3D\n",
      "\n",
      "Job Title: Research Internship\n",
      "Job Link: https://www.linkedin.com/jobs/view/research-internship-at-cohere-3954882259?position=17&pageNum=0&refId=XZoMTWC%2B9hRla2LAhmSpsw%3D%3D&trackingId=nZC6DOjExvezLxlgLoccdw%3D%3D\n",
      "\n",
      "Job Title: Winter 2025 Computer Vision and Machine Learning Intern\n",
      "Job Link: https://www.linkedin.com/jobs/view/winter-2025-computer-vision-and-machine-learning-intern-at-kodiak-4025976930?position=18&pageNum=0&refId=XZoMTWC%2B9hRla2LAhmSpsw%3D%3D&trackingId=Gxg3cSomTNTCp%2BK2ZLEp%2Fg%3D%3D\n",
      "\n",
      "Job Title: Product Management Intern - Visa Direct, Summer 2025\n",
      "Job Link: https://www.linkedin.com/jobs/view/product-management-intern-visa-direct-summer-2025-at-visa-4052073414?position=19&pageNum=0&refId=XZoMTWC%2B9hRla2LAhmSpsw%3D%3D&trackingId=OiO6FbRIv1h9Elk7QHj5GA%3D%3D\n",
      "\n",
      "Job Title: Research Internship\n",
      "Job Link: https://www.linkedin.com/jobs/view/research-internship-at-cohere-3954877781?position=20&pageNum=0&refId=XZoMTWC%2B9hRla2LAhmSpsw%3D%3D&trackingId=nyWtZNxePMDXXZaV8rlbzA%3D%3D\n",
      "\n",
      "Job Title: Software Engineer and MLOps Internship Summer 2025\n",
      "Job Link: https://www.linkedin.com/jobs/view/software-engineer-and-mlops-internship-summer-2025-at-ccc-intelligent-solutions-4021589716?position=21&pageNum=0&refId=XZoMTWC%2B9hRla2LAhmSpsw%3D%3D&trackingId=idfPIcAScWGHjOkFlFBQyg%3D%3D\n",
      "\n",
      "Job Title: Internship - 2025 Undergraduate and Master's Data Science & Data Engineering Intern*\n",
      "Job Link: https://www.linkedin.com/jobs/view/internship-2025-undergraduate-and-master-s-data-science-data-engineering-intern-at-3m-4018841013?position=22&pageNum=0&refId=XZoMTWC%2B9hRla2LAhmSpsw%3D%3D&trackingId=3L31nuFpgEF380K3KSmZdw%3D%3D\n",
      "\n",
      "Job Title: Machine Learning Intern\n",
      "Job Link: https://www.linkedin.com/jobs/view/machine-learning-intern-at-epic-games-4051232686?position=23&pageNum=0&refId=XZoMTWC%2B9hRla2LAhmSpsw%3D%3D&trackingId=MzDlp4P%2BOeysbpiYkmN1HA%3D%3D\n",
      "\n",
      "Job Title: AI Intern\n",
      "Job Link: https://www.linkedin.com/jobs/view/ai-intern-at-sgk-4038803013?position=24&pageNum=0&refId=XZoMTWC%2B9hRla2LAhmSpsw%3D%3D&trackingId=chUCQeMT5602uXV9w4adMw%3D%3D\n",
      "\n",
      "Job Title: Applied Machine Learning Intern - Masters\n",
      "Job Link: https://www.linkedin.com/jobs/view/applied-machine-learning-intern-masters-at-sony-interactive-entertainment-4042611079?position=25&pageNum=0&refId=XZoMTWC%2B9hRla2LAhmSpsw%3D%3D&trackingId=fKMw8J%2BgTBAaKx3VLTMW4g%3D%3D\n",
      "\n",
      "Job Title: 2025 Guardian Summer Intern, Data Science\n",
      "Job Link: https://www.linkedin.com/jobs/view/2025-guardian-summer-intern-data-science-at-guardian-life-4025771366?position=26&pageNum=0&refId=XZoMTWC%2B9hRla2LAhmSpsw%3D%3D&trackingId=%2BFq%2F5m05kE1gpGc72EeOPA%3D%3D\n",
      "\n",
      "Job Title: AI/ML Engineering Summer 2025 Internship\n",
      "Job Link: https://www.linkedin.com/jobs/view/ai-ml-engineering-summer-2025-internship-at-verizon-4038539950?position=27&pageNum=0&refId=XZoMTWC%2B9hRla2LAhmSpsw%3D%3D&trackingId=Em3yhip13Ynt9F27H1OIiw%3D%3D\n",
      "\n",
      "Job Title: AI/ML Engineering Summer Internship 2025\n",
      "Job Link: https://www.linkedin.com/jobs/view/ai-ml-engineering-summer-internship-2025-at-verizon-4053404565?position=28&pageNum=0&refId=XZoMTWC%2B9hRla2LAhmSpsw%3D%3D&trackingId=HbSX%2FucLzMA8D2qqdXNV0Q%3D%3D\n",
      "\n",
      "Job Title: Summer 2025 Internships  | Technical Roles\n",
      "Job Link: https://www.linkedin.com/jobs/view/summer-2025-internships-technical-roles-at-beacon-ai-4052730259?position=29&pageNum=0&refId=XZoMTWC%2B9hRla2LAhmSpsw%3D%3D&trackingId=IuaYXy0YvPRr%2BA2c%2BhJO5Q%3D%3D\n",
      "\n",
      "Job Title: Software Engineering Internship - Summer 2025\n",
      "Job Link: https://www.linkedin.com/jobs/view/software-engineering-internship-summer-2025-at-aurora-4052173105?position=30&pageNum=0&refId=XZoMTWC%2B9hRla2LAhmSpsw%3D%3D&trackingId=DUmz4dTW8c0iFrZGwyv5wA%3D%3D\n",
      "\n",
      "Job Title: UIUC Cohort - Year Long Technology Internships (Summer 2025 - Spring 2026)\n",
      "Job Link: https://www.linkedin.com/jobs/view/uiuc-cohort-year-long-technology-internships-summer-2025-spring-2026-at-jobs-via-efinancialcareers-4045137369?position=31&pageNum=0&refId=XZoMTWC%2B9hRla2LAhmSpsw%3D%3D&trackingId=0CAEAbLbVNjeyBUUmCHBHA%3D%3D\n",
      "\n",
      "Job Title: Summer 2025 Technology Interns - Dallas, TX\n",
      "Job Link: https://www.linkedin.com/jobs/view/summer-2025-technology-interns-dallas-tx-at-ryan-4023776930?position=32&pageNum=0&refId=XZoMTWC%2B9hRla2LAhmSpsw%3D%3D&trackingId=mmNyRKhKOiK6XeLBxtFi2A%3D%3D\n",
      "\n",
      "Job Title: Offline Perception Internship/Co-op\n",
      "Job Link: https://www.linkedin.com/jobs/view/offline-perception-internship-co-op-at-zoox-4049978933?position=33&pageNum=0&refId=XZoMTWC%2B9hRla2LAhmSpsw%3D%3D&trackingId=6nyq%2B0DN8n4gg%2BpPqAN0rQ%3D%3D\n",
      "\n",
      "Job Title: UIUC Cohort - Year Long Technology Internships (Summer 2025 - Spring 2026)\n",
      "Job Link: https://www.linkedin.com/jobs/view/uiuc-cohort-year-long-technology-internships-summer-2025-spring-2026-at-jobs-via-efinancialcareers-4045135587?position=34&pageNum=0&refId=XZoMTWC%2B9hRla2LAhmSpsw%3D%3D&trackingId=2A85qWcm52XxXIBtAb88rQ%3D%3D\n",
      "\n",
      "Job Title: Research Intern\n",
      "Job Link: https://www.linkedin.com/jobs/view/research-intern-at-contextual-ai-4053442320?position=35&pageNum=0&refId=XZoMTWC%2B9hRla2LAhmSpsw%3D%3D&trackingId=%2BwcLIZVznGXzNOINR9e3uQ%3D%3D\n",
      "\n",
      "Job Title: Software Engineering Internship - Summer 2025\n",
      "Job Link: https://www.linkedin.com/jobs/view/software-engineering-internship-summer-2025-at-aurora-4052173106?position=36&pageNum=0&refId=XZoMTWC%2B9hRla2LAhmSpsw%3D%3D&trackingId=S6XUtq91%2F3G4IM%2B0gxUPbQ%3D%3D\n",
      "\n",
      "Job Title: Big Idea Innovation Intern (Summer 2025)\n",
      "Job Link: https://www.linkedin.com/jobs/view/big-idea-innovation-intern-summer-2025-at-dolby-laboratories-4049000628?position=37&pageNum=0&refId=XZoMTWC%2B9hRla2LAhmSpsw%3D%3D&trackingId=i6wzpwThVh8jEiCaUcy%2FtQ%3D%3D\n",
      "\n",
      "Job Title: Prediction Internship/Co-op\n",
      "Job Link: https://www.linkedin.com/jobs/view/prediction-internship-co-op-at-zoox-4042477514?position=38&pageNum=0&refId=XZoMTWC%2B9hRla2LAhmSpsw%3D%3D&trackingId=vxnEwQiwS4uorFEVlrTR1g%3D%3D\n",
      "\n",
      "Job Title: 2025 Applied Science Internship - Information & Knowledge Management (Machine Learning) - United States, PhD Student Science Recruiting\n",
      "Job Link: https://www.linkedin.com/jobs/view/2025-applied-science-internship-information-knowledge-management-machine-learning-united-states-phd-student-science-recruiting-at-amazon-4041456014?position=39&pageNum=0&refId=XZoMTWC%2B9hRla2LAhmSpsw%3D%3D&trackingId=QxhSl4EOv4rcS3GdhXckGQ%3D%3D\n",
      "\n",
      "Job Title: Machine Learning Intern, Regulatory\n",
      "Job Link: https://www.linkedin.com/jobs/view/machine-learning-intern-regulatory-at-cboe-global-markets-4019080096?position=40&pageNum=0&refId=XZoMTWC%2B9hRla2LAhmSpsw%3D%3D&trackingId=%2BuTkCn3iLLvIpJK9nJhjKw%3D%3D\n",
      "\n",
      "Job Title: Applied Machine Learning Intern\n",
      "Job Link: https://www.linkedin.com/jobs/view/applied-machine-learning-intern-at-grainger-4046034687?position=41&pageNum=0&refId=XZoMTWC%2B9hRla2LAhmSpsw%3D%3D&trackingId=ccllKzz7IBaETCFwjHXXwQ%3D%3D\n",
      "\n",
      "Job Title: Graduate Intern, Applied Research - Technology and Innovation (Spring 2025)\n",
      "Job Link: https://www.linkedin.com/jobs/view/graduate-intern-applied-research-technology-and-innovation-spring-2025-at-delta-air-lines-4005937048?position=42&pageNum=0&refId=XZoMTWC%2B9hRla2LAhmSpsw%3D%3D&trackingId=gQMMh3u%2BFdHivsbfDSEa4A%3D%3D\n",
      "\n",
      "Job Title: Machine Intelligence Intern\n",
      "Job Link: https://www.linkedin.com/jobs/view/machine-intelligence-intern-at-draper-4049998731?position=43&pageNum=0&refId=XZoMTWC%2B9hRla2LAhmSpsw%3D%3D&trackingId=MdD2%2FTqAne1rLIvOnPp1eA%3D%3D\n",
      "\n",
      "Job Title: Research Intern\n",
      "Job Link: https://www.linkedin.com/jobs/view/research-intern-at-fujitsu-4037034043?position=44&pageNum=0&refId=XZoMTWC%2B9hRla2LAhmSpsw%3D%3D&trackingId=3%2Bhxftz6r4rVQZYxlpUX%2BQ%3D%3D\n",
      "\n",
      "Job Title: 2025 Spring AI ML Co-op (Part-time)-Gloucester, MA\n",
      "Job Link: https://www.linkedin.com/jobs/view/2025-spring-ai-ml-co-op-part-time-gloucester-ma-at-applied-materials-4041919006?position=45&pageNum=0&refId=XZoMTWC%2B9hRla2LAhmSpsw%3D%3D&trackingId=QH0QmNXcVfysGttlKEPuKA%3D%3D\n",
      "\n",
      "Job Title: Campus Graduate - 2025 Technology Information Security Summer Internship Phoenix, AZ\n",
      "Job Link: https://www.linkedin.com/jobs/view/campus-graduate-2025-technology-information-security-summer-internship-phoenix-az-at-american-express-4014816969?position=46&pageNum=0&refId=XZoMTWC%2B9hRla2LAhmSpsw%3D%3D&trackingId=jZ0dS8kgX1pC%2B26rYpkAhw%3D%3D\n",
      "\n",
      "Job Title: Undergraduate - Technology Intern\n",
      "Job Link: https://www.linkedin.com/jobs/view/undergraduate-technology-intern-at-national-basketball-association-nba-4049544184?position=47&pageNum=0&refId=XZoMTWC%2B9hRla2LAhmSpsw%3D%3D&trackingId=RkR9DoKgLkMfu1KC0gpbyg%3D%3D\n",
      "\n",
      "Job Title: Summer 2025 Internship in Deep Learning and Computer Vision\n",
      "Job Link: https://www.linkedin.com/jobs/view/summer-2025-internship-in-deep-learning-and-computer-vision-at-expedition-technology-inc-4025815820?position=48&pageNum=0&refId=XZoMTWC%2B9hRla2LAhmSpsw%3D%3D&trackingId=EJZ8GuyhygUqxqt9kkBK%2FQ%3D%3D\n",
      "\n",
      "Job Title: Data Science Intern\n",
      "Job Link: https://www.linkedin.com/jobs/view/data-science-intern-at-direct-supply-4039735962?position=49&pageNum=0&refId=XZoMTWC%2B9hRla2LAhmSpsw%3D%3D&trackingId=bGNK4pMPSJB0iLsGTNo0KA%3D%3D\n",
      "\n",
      "Job Title: IT 2025 Internship - Undergraduate\n",
      "Job Link: https://www.linkedin.com/jobs/view/it-2025-internship-undergraduate-at-florida-blue-4033407912?position=50&pageNum=0&refId=XZoMTWC%2B9hRla2LAhmSpsw%3D%3D&trackingId=n2HRVdrlG1IYOMSbBMQAKg%3D%3D\n",
      "\n",
      "Job Title: Intern - Machine Learning\n",
      "Job Link: https://www.linkedin.com/jobs/view/intern-machine-learning-at-symbotic-4053443303?position=51&pageNum=0&refId=XZoMTWC%2B9hRla2LAhmSpsw%3D%3D&trackingId=5zAwRBCoTVJdbM%2BzwjlQYA%3D%3D\n",
      "\n",
      "Job Title: Enterprise AI Co-Op\n",
      "Job Link: https://www.linkedin.com/jobs/view/enterprise-ai-co-op-at-skyworks-solutions-inc-4039233335?position=52&pageNum=0&refId=XZoMTWC%2B9hRla2LAhmSpsw%3D%3D&trackingId=iz93kujLcZuyYHtrnfQNhA%3D%3D\n",
      "\n",
      "Job Title: Kohler Intern - Strategic Intelligence\n",
      "Job Link: https://www.linkedin.com/jobs/view/kohler-intern-strategic-intelligence-at-kohler-co-4047938189?position=53&pageNum=0&refId=XZoMTWC%2B9hRla2LAhmSpsw%3D%3D&trackingId=pN20vxyn1IKWo0C5pjs8%2FA%3D%3D\n",
      "\n",
      "Job Title: Visa Direct Product Management Intern - Summer 2025\n",
      "Job Link: https://www.linkedin.com/jobs/view/visa-direct-product-management-intern-summer-2025-at-visa-4042379628?position=54&pageNum=0&refId=XZoMTWC%2B9hRla2LAhmSpsw%3D%3D&trackingId=wjBu8qPTdtr144QyPianfw%3D%3D\n",
      "\n",
      "Job Title: Summer 2025 - Machine Learning PhD Internship\n",
      "Job Link: https://www.linkedin.com/jobs/view/summer-2025-machine-learning-phd-internship-at-bristol-myers-squibb-4043298311?position=55&pageNum=0&refId=XZoMTWC%2B9hRla2LAhmSpsw%3D%3D&trackingId=0BKTcW2YwBqD6iXcAOqo9Q%3D%3D\n",
      "\n",
      "Job Title: Technology Intern\n",
      "Job Link: https://www.linkedin.com/jobs/view/technology-intern-at-blackhawk-network-4022753600?position=56&pageNum=0&refId=XZoMTWC%2B9hRla2LAhmSpsw%3D%3D&trackingId=GN7ZYIRICkm46Gjh9encqw%3D%3D\n",
      "\n",
      "Job Title: Machine Learning Intern, Regulatory\n",
      "Job Link: https://www.linkedin.com/jobs/view/machine-learning-intern-regulatory-at-cboe-global-markets-4019073882?position=57&pageNum=0&refId=XZoMTWC%2B9hRla2LAhmSpsw%3D%3D&trackingId=mtbfr8cz%2BTAkragJSZ2jIQ%3D%3D\n",
      "\n",
      "Job Title: Campus Undergraduate - 2025 Technology Information Security Summer Internship Phoenix, AZ\n",
      "Job Link: https://www.linkedin.com/jobs/view/campus-undergraduate-2025-technology-information-security-summer-internship-phoenix-az-at-american-express-4004462427?position=58&pageNum=0&refId=XZoMTWC%2B9hRla2LAhmSpsw%3D%3D&trackingId=%2BKc9mEZbaC6d07wE%2FCurbQ%3D%3D\n",
      "\n",
      "Job Title: Summer 2025 Intern - AI Innovation for Antibody - LMR\n",
      "Job Link: https://www.linkedin.com/jobs/view/summer-2025-intern-ai-innovation-for-antibody-lmr-at-sanofi-4017219981?position=59&pageNum=0&refId=XZoMTWC%2B9hRla2LAhmSpsw%3D%3D&trackingId=aK%2Bd0ld0SiIdpknGWa8zkA%3D%3D\n",
      "\n",
      "Job Title: Intern, Innovation Data Science, 3 positions available Summer 2025\n",
      "Job Link: https://www.linkedin.com/jobs/view/intern-innovation-data-science-3-positions-available-summer-2025-at-excellus-bcbs-4037032546?position=60&pageNum=0&refId=XZoMTWC%2B9hRla2LAhmSpsw%3D%3D&trackingId=%2BxnAcaXKWYKLFwy9RBVuOQ%3D%3D\n",
      "\n"
     ]
    }
   ],
   "source": [
    "#scrapping ml enginnering internship job postings\n",
    "url = \"https://www.linkedin.com/jobs/search/?currentJobId=4051232686&distance=25.0&geoId=103644278&keywords=ml%20intern&origin=HISTORY\"\n",
    "\n",
    "response = requests.get(url)\n",
    "#parse the retrived html elements\n",
    "soup = BeautifulSoup(response.text, 'html.parser')\n",
    "#print(soup)\n",
    "\n",
    "\n",
    "# Find all the job titles and links\n",
    "job_cards = soup.find_all('a', class_='base-card__full-link')\n",
    "\n",
    "# Loop through the job cards and extract the job name and link\n",
    "for job in job_cards:\n",
    "    job_title = job.find('span', class_='sr-only').text.strip()  # Job title\n",
    "    job_link = job['href']  # Job link\n",
    "    print(f\"Job Title: {job_title}\")\n",
    "    print(f\"Job Link: {job_link}\\n\")"
   ]
  },
  {
   "cell_type": "markdown",
   "id": "d564f861",
   "metadata": {},
   "source": [
    "**Profile scrapping**"
   ]
  },
  {
   "cell_type": "code",
   "execution_count": 18,
   "id": "638101af",
   "metadata": {},
   "outputs": [
    {
     "name": "stdout",
     "output_type": "stream",
     "text": [
      "<html><head>\n",
      "<script type=\"text/javascript\">\n",
      "window.onload = function() {\n",
      "  // Parse the tracking code from cookies.\n",
      "  var trk = \"bf\";\n",
      "  var trkInfo = \"bf\";\n",
      "  var cookies = document.cookie.split(\"; \");\n",
      "  for (var i = 0; i < cookies.length; ++i) {\n",
      "    if ((cookies[i].indexOf(\"trkCode=\") == 0) && (cookies[i].length > 8)) {\n",
      "      trk = cookies[i].substring(8);\n",
      "    }\n",
      "    else if ((cookies[i].indexOf(\"trkInfo=\") == 0) && (cookies[i].length > 8)) {\n",
      "      trkInfo = cookies[i].substring(8);\n",
      "    }\n",
      "  }\n",
      "\n",
      "  if (window.location.protocol == \"http:\") {\n",
      "    // If \"sl\" cookie is set, redirect to https.\n",
      "    for (var i = 0; i < cookies.length; ++i) {\n",
      "      if ((cookies[i].indexOf(\"sl=\") == 0) && (cookies[i].length > 3)) {\n",
      "        window.location.href = \"https:\" + window.location.href.substring(window.location.protocol.length);\n",
      "        return;\n",
      "      }\n",
      "    }\n",
      "  }\n",
      "\n",
      "  // Get the new domain. For international domains such as\n",
      "  // fr.linkedin.com, we convert it to www.linkedin.com\n",
      "  // treat .cn similar to .com here\n",
      "  var domain = location.host;\n",
      "  if (domain != \"www.linkedin.com\" && domain != \"www.linkedin.cn\") {\n",
      "    var subdomainIndex = location.host.indexOf(\".linkedin\");\n",
      "    if (subdomainIndex != -1) {\n",
      "      domain = \"www\" + location.host.substring(subdomainIndex);\n",
      "    }\n",
      "  }\n",
      "\n",
      "  window.location.href = \"https://\" + domain + \"/authwall?trk=\" + trk + \"&trkInfo=\" + trkInfo +\n",
      "      \"&original_referer=\" + document.referrer.substr(0, 200) +\n",
      "      \"&sessionRedirect=\" + encodeURIComponent(window.location.href);\n",
      "}\n",
      "</script>\n",
      "</head></html>\n",
      "\n"
     ]
    }
   ],
   "source": [
    "####      !!!!!!!!!!!! LinkedIn PROFILES CAN NOT BE SCRAPPED USING BEAUTIFULSOUP Because LinkedIn does not stores profile data in URLs   ##########\n",
    "\n",
    "\n",
    "########### THIS CODE SECTION DOESN'T SCRAPE ANY DATA  ########\n",
    "profile_url = \"https://www.linkedin.com/in/joaomdmoura/\"\n",
    "\n",
    "\n",
    "html_response = requests.get(profile_url)\n",
    "profile_soup = BeautifulSoup(html_response.text, 'html.parser')\n",
    "\n",
    "\n",
    "print(profile_soup)"
   ]
  },
  {
   "cell_type": "markdown",
   "id": "e80ea731",
   "metadata": {},
   "source": [
    "Here Selenium comes to rescue us: **Profile Scrapping with Selenium**"
   ]
  },
  {
   "cell_type": "code",
   "execution_count": 1,
   "id": "4775d01a",
   "metadata": {},
   "outputs": [
    {
     "name": "stdout",
     "output_type": "stream",
     "text": [
      "Requirement already satisfied: selenium in c:\\users\\dell\\anaconda3\\lib\\site-packages (4.18.1)\n",
      "Requirement already satisfied: trio-websocket~=0.9 in c:\\users\\dell\\anaconda3\\lib\\site-packages (from selenium) (0.11.1)\n",
      "Requirement already satisfied: urllib3[socks]<3,>=1.26 in c:\\users\\dell\\anaconda3\\lib\\site-packages (from selenium) (1.26.11)\n",
      "Requirement already satisfied: typing_extensions>=4.9.0 in c:\\users\\dell\\anaconda3\\lib\\site-packages (from selenium) (4.9.0)\n",
      "Requirement already satisfied: trio~=0.17 in c:\\users\\dell\\anaconda3\\lib\\site-packages (from selenium) (0.24.0)\n",
      "Requirement already satisfied: certifi>=2021.10.8 in c:\\users\\dell\\anaconda3\\lib\\site-packages (from selenium) (2022.9.14)\n",
      "Requirement already satisfied: cffi>=1.14 in c:\\users\\dell\\anaconda3\\lib\\site-packages (from trio~=0.17->selenium) (1.15.1)\n",
      "Requirement already satisfied: sortedcontainers in c:\\users\\dell\\anaconda3\\lib\\site-packages (from trio~=0.17->selenium) (2.4.0)\n",
      "Requirement already satisfied: sniffio>=1.3.0 in c:\\users\\dell\\anaconda3\\lib\\site-packages (from trio~=0.17->selenium) (1.3.0)\n",
      "Requirement already satisfied: idna in c:\\users\\dell\\anaconda3\\lib\\site-packages (from trio~=0.17->selenium) (3.3)\n",
      "Requirement already satisfied: exceptiongroup in c:\\users\\dell\\anaconda3\\lib\\site-packages (from trio~=0.17->selenium) (1.2.0)\n",
      "Requirement already satisfied: outcome in c:\\users\\dell\\anaconda3\\lib\\site-packages (from trio~=0.17->selenium) (1.3.0.post0)\n",
      "Requirement already satisfied: attrs>=20.1.0 in c:\\users\\dell\\anaconda3\\lib\\site-packages (from trio~=0.17->selenium) (21.4.0)\n",
      "Requirement already satisfied: wsproto>=0.14 in c:\\users\\dell\\anaconda3\\lib\\site-packages (from trio-websocket~=0.9->selenium) (1.2.0)\n",
      "Requirement already satisfied: PySocks!=1.5.7,<2.0,>=1.5.6 in c:\\users\\dell\\anaconda3\\lib\\site-packages (from urllib3[socks]<3,>=1.26->selenium) (1.7.1)\n",
      "Requirement already satisfied: pycparser in c:\\users\\dell\\anaconda3\\lib\\site-packages (from cffi>=1.14->trio~=0.17->selenium) (2.21)\n",
      "Requirement already satisfied: h11<1,>=0.9.0 in c:\\users\\dell\\anaconda3\\lib\\site-packages (from wsproto>=0.14->trio-websocket~=0.9->selenium) (0.14.0)\n",
      "Requirement already satisfied: webdriver_manager in c:\\users\\dell\\anaconda3\\lib\\site-packages (4.0.1)\n",
      "Requirement already satisfied: packaging in c:\\users\\dell\\anaconda3\\lib\\site-packages (from webdriver_manager) (23.2)\n",
      "Requirement already satisfied: requests in c:\\users\\dell\\anaconda3\\lib\\site-packages (from webdriver_manager) (2.32.3)\n",
      "Requirement already satisfied: python-dotenv in c:\\users\\dell\\anaconda3\\lib\\site-packages (from webdriver_manager) (1.0.1)\n",
      "Requirement already satisfied: urllib3<3,>=1.21.1 in c:\\users\\dell\\anaconda3\\lib\\site-packages (from requests->webdriver_manager) (1.26.11)\n",
      "Requirement already satisfied: idna<4,>=2.5 in c:\\users\\dell\\anaconda3\\lib\\site-packages (from requests->webdriver_manager) (3.3)\n",
      "Requirement already satisfied: certifi>=2017.4.17 in c:\\users\\dell\\anaconda3\\lib\\site-packages (from requests->webdriver_manager) (2022.9.14)\n",
      "Requirement already satisfied: charset-normalizer<4,>=2 in c:\\users\\dell\\anaconda3\\lib\\site-packages (from requests->webdriver_manager) (2.0.4)\n"
     ]
    }
   ],
   "source": [
    "!pip install selenium\n",
    "!pip install webdriver_manager"
   ]
  },
  {
   "cell_type": "code",
   "execution_count": 1,
   "id": "d90721a8",
   "metadata": {},
   "outputs": [
    {
     "name": "stdout",
     "output_type": "stream",
     "text": [
      "Requirement already satisfied: playwright in c:\\users\\dell\\anaconda3\\lib\\site-packages (1.41.2)\n",
      "Requirement already satisfied: greenlet==3.0.3 in c:\\users\\dell\\anaconda3\\lib\\site-packages (from playwright) (3.0.3)\n",
      "Requirement already satisfied: pyee==11.0.1 in c:\\users\\dell\\anaconda3\\lib\\site-packages (from playwright) (11.0.1)\n",
      "Requirement already satisfied: typing-extensions in c:\\users\\dell\\anaconda3\\lib\\site-packages (from pyee==11.0.1->playwright) (4.9.0)\n"
     ]
    }
   ],
   "source": [
    "!pip install playwright\n"
   ]
  },
  {
   "cell_type": "code",
   "execution_count": null,
   "id": "fdd2a3a5",
   "metadata": {},
   "outputs": [],
   "source": []
  },
  {
   "cell_type": "code",
   "execution_count": 4,
   "id": "66131995",
   "metadata": {},
   "outputs": [
    {
     "data": {
      "text/plain": [
       "<coroutine object scrape_linkedin at 0x0000026828D18840>"
      ]
     },
     "execution_count": 4,
     "metadata": {},
     "output_type": "execute_result"
    }
   ],
   "source": []
  },
  {
   "cell_type": "code",
   "execution_count": null,
   "id": "c3dd24ef",
   "metadata": {},
   "outputs": [],
   "source": []
  },
  {
   "cell_type": "code",
   "execution_count": 3,
   "id": "c9785070",
   "metadata": {},
   "outputs": [
    {
     "ename": "OSError",
     "evalue": "[WinError 193] %1 is not a valid Win32 application",
     "output_type": "error",
     "traceback": [
      "\u001b[1;31m---------------------------------------------------------------------------\u001b[0m",
      "\u001b[1;31mOSError\u001b[0m                                   Traceback (most recent call last)",
      "\u001b[1;32m~\\AppData\\Local\\Temp\\ipykernel_5672\\272772416.py\u001b[0m in \u001b[0;36m<module>\u001b[1;34m\u001b[0m\n\u001b[1;32m----> 1\u001b[1;33m \u001b[0mdriver\u001b[0m\u001b[1;33m=\u001b[0m\u001b[0mwebdriver\u001b[0m\u001b[1;33m.\u001b[0m\u001b[0mChrome\u001b[0m\u001b[1;33m(\u001b[0m\u001b[0mservice\u001b[0m\u001b[1;33m=\u001b[0m\u001b[0mService\u001b[0m\u001b[1;33m(\u001b[0m\u001b[0mChromeDriverManager\u001b[0m\u001b[1;33m(\u001b[0m\u001b[1;33m)\u001b[0m\u001b[1;33m.\u001b[0m\u001b[0minstall\u001b[0m\u001b[1;33m(\u001b[0m\u001b[1;33m)\u001b[0m\u001b[1;33m)\u001b[0m\u001b[1;33m)\u001b[0m\u001b[1;33m\u001b[0m\u001b[1;33m\u001b[0m\u001b[0m\n\u001b[0m",
      "\u001b[1;32m~\\anaconda3\\lib\\site-packages\\selenium\\webdriver\\chrome\\webdriver.py\u001b[0m in \u001b[0;36m__init__\u001b[1;34m(self, options, service, keep_alive)\u001b[0m\n\u001b[0;32m     43\u001b[0m         \u001b[0moptions\u001b[0m \u001b[1;33m=\u001b[0m \u001b[0moptions\u001b[0m \u001b[1;32mif\u001b[0m \u001b[0moptions\u001b[0m \u001b[1;32melse\u001b[0m \u001b[0mOptions\u001b[0m\u001b[1;33m(\u001b[0m\u001b[1;33m)\u001b[0m\u001b[1;33m\u001b[0m\u001b[1;33m\u001b[0m\u001b[0m\n\u001b[0;32m     44\u001b[0m \u001b[1;33m\u001b[0m\u001b[0m\n\u001b[1;32m---> 45\u001b[1;33m         super().__init__(\n\u001b[0m\u001b[0;32m     46\u001b[0m             \u001b[0mbrowser_name\u001b[0m\u001b[1;33m=\u001b[0m\u001b[0mDesiredCapabilities\u001b[0m\u001b[1;33m.\u001b[0m\u001b[0mCHROME\u001b[0m\u001b[1;33m[\u001b[0m\u001b[1;34m\"browserName\"\u001b[0m\u001b[1;33m]\u001b[0m\u001b[1;33m,\u001b[0m\u001b[1;33m\u001b[0m\u001b[1;33m\u001b[0m\u001b[0m\n\u001b[0;32m     47\u001b[0m             \u001b[0mvendor_prefix\u001b[0m\u001b[1;33m=\u001b[0m\u001b[1;34m\"goog\"\u001b[0m\u001b[1;33m,\u001b[0m\u001b[1;33m\u001b[0m\u001b[1;33m\u001b[0m\u001b[0m\n",
      "\u001b[1;32m~\\anaconda3\\lib\\site-packages\\selenium\\webdriver\\chromium\\webdriver.py\u001b[0m in \u001b[0;36m__init__\u001b[1;34m(self, browser_name, vendor_prefix, options, service, keep_alive)\u001b[0m\n\u001b[0;32m     48\u001b[0m \u001b[1;33m\u001b[0m\u001b[0m\n\u001b[0;32m     49\u001b[0m         \u001b[0mself\u001b[0m\u001b[1;33m.\u001b[0m\u001b[0mservice\u001b[0m\u001b[1;33m.\u001b[0m\u001b[0mpath\u001b[0m \u001b[1;33m=\u001b[0m \u001b[0mDriverFinder\u001b[0m\u001b[1;33m.\u001b[0m\u001b[0mget_path\u001b[0m\u001b[1;33m(\u001b[0m\u001b[0mself\u001b[0m\u001b[1;33m.\u001b[0m\u001b[0mservice\u001b[0m\u001b[1;33m,\u001b[0m \u001b[0moptions\u001b[0m\u001b[1;33m)\u001b[0m\u001b[1;33m\u001b[0m\u001b[1;33m\u001b[0m\u001b[0m\n\u001b[1;32m---> 50\u001b[1;33m         \u001b[0mself\u001b[0m\u001b[1;33m.\u001b[0m\u001b[0mservice\u001b[0m\u001b[1;33m.\u001b[0m\u001b[0mstart\u001b[0m\u001b[1;33m(\u001b[0m\u001b[1;33m)\u001b[0m\u001b[1;33m\u001b[0m\u001b[1;33m\u001b[0m\u001b[0m\n\u001b[0m\u001b[0;32m     51\u001b[0m \u001b[1;33m\u001b[0m\u001b[0m\n\u001b[0;32m     52\u001b[0m         executor = ChromiumRemoteConnection(\n",
      "\u001b[1;32m~\\anaconda3\\lib\\site-packages\\selenium\\webdriver\\common\\service.py\u001b[0m in \u001b[0;36mstart\u001b[1;34m(self)\u001b[0m\n\u001b[0;32m     96\u001b[0m            \u001b[1;32mor\u001b[0m \u001b[0mwhen\u001b[0m \u001b[0mit\u001b[0m \u001b[0mcan\u001b[0m\u001b[0;31m'\u001b[0m\u001b[0mt\u001b[0m \u001b[0mconnect\u001b[0m \u001b[0mto\u001b[0m \u001b[0mthe\u001b[0m \u001b[0mservice\u001b[0m\u001b[1;33m\u001b[0m\u001b[1;33m\u001b[0m\u001b[0m\n\u001b[0;32m     97\u001b[0m         \"\"\"\n\u001b[1;32m---> 98\u001b[1;33m         \u001b[0mself\u001b[0m\u001b[1;33m.\u001b[0m\u001b[0m_start_process\u001b[0m\u001b[1;33m(\u001b[0m\u001b[0mself\u001b[0m\u001b[1;33m.\u001b[0m\u001b[0m_path\u001b[0m\u001b[1;33m)\u001b[0m\u001b[1;33m\u001b[0m\u001b[1;33m\u001b[0m\u001b[0m\n\u001b[0m\u001b[0;32m     99\u001b[0m \u001b[1;33m\u001b[0m\u001b[0m\n\u001b[0;32m    100\u001b[0m         \u001b[0mcount\u001b[0m \u001b[1;33m=\u001b[0m \u001b[1;36m0\u001b[0m\u001b[1;33m\u001b[0m\u001b[1;33m\u001b[0m\u001b[0m\n",
      "\u001b[1;32m~\\anaconda3\\lib\\site-packages\\selenium\\webdriver\\common\\service.py\u001b[0m in \u001b[0;36m_start_process\u001b[1;34m(self, path)\u001b[0m\n\u001b[0;32m    206\u001b[0m                 \u001b[0mstart_info\u001b[0m\u001b[1;33m.\u001b[0m\u001b[0mwShowWindow\u001b[0m \u001b[1;33m=\u001b[0m \u001b[0msubprocess\u001b[0m\u001b[1;33m.\u001b[0m\u001b[0mSW_HIDE\u001b[0m\u001b[1;33m\u001b[0m\u001b[1;33m\u001b[0m\u001b[0m\n\u001b[0;32m    207\u001b[0m \u001b[1;33m\u001b[0m\u001b[0m\n\u001b[1;32m--> 208\u001b[1;33m             self.process = subprocess.Popen(\n\u001b[0m\u001b[0;32m    209\u001b[0m                 \u001b[0mcmd\u001b[0m\u001b[1;33m,\u001b[0m\u001b[1;33m\u001b[0m\u001b[1;33m\u001b[0m\u001b[0m\n\u001b[0;32m    210\u001b[0m                 \u001b[0menv\u001b[0m\u001b[1;33m=\u001b[0m\u001b[0mself\u001b[0m\u001b[1;33m.\u001b[0m\u001b[0menv\u001b[0m\u001b[1;33m,\u001b[0m\u001b[1;33m\u001b[0m\u001b[1;33m\u001b[0m\u001b[0m\n",
      "\u001b[1;32m~\\anaconda3\\lib\\subprocess.py\u001b[0m in \u001b[0;36m__init__\u001b[1;34m(self, args, bufsize, executable, stdin, stdout, stderr, preexec_fn, close_fds, shell, cwd, env, universal_newlines, startupinfo, creationflags, restore_signals, start_new_session, pass_fds, user, group, extra_groups, encoding, errors, text, umask)\u001b[0m\n\u001b[0;32m    949\u001b[0m                             encoding=encoding, errors=errors)\n\u001b[0;32m    950\u001b[0m \u001b[1;33m\u001b[0m\u001b[0m\n\u001b[1;32m--> 951\u001b[1;33m             self._execute_child(args, executable, preexec_fn, close_fds,\n\u001b[0m\u001b[0;32m    952\u001b[0m                                 \u001b[0mpass_fds\u001b[0m\u001b[1;33m,\u001b[0m \u001b[0mcwd\u001b[0m\u001b[1;33m,\u001b[0m \u001b[0menv\u001b[0m\u001b[1;33m,\u001b[0m\u001b[1;33m\u001b[0m\u001b[1;33m\u001b[0m\u001b[0m\n\u001b[0;32m    953\u001b[0m                                 \u001b[0mstartupinfo\u001b[0m\u001b[1;33m,\u001b[0m \u001b[0mcreationflags\u001b[0m\u001b[1;33m,\u001b[0m \u001b[0mshell\u001b[0m\u001b[1;33m,\u001b[0m\u001b[1;33m\u001b[0m\u001b[1;33m\u001b[0m\u001b[0m\n",
      "\u001b[1;32m~\\anaconda3\\lib\\subprocess.py\u001b[0m in \u001b[0;36m_execute_child\u001b[1;34m(self, args, executable, preexec_fn, close_fds, pass_fds, cwd, env, startupinfo, creationflags, shell, p2cread, p2cwrite, c2pread, c2pwrite, errread, errwrite, unused_restore_signals, unused_gid, unused_gids, unused_uid, unused_umask, unused_start_new_session)\u001b[0m\n\u001b[0;32m   1418\u001b[0m             \u001b[1;31m# Start the process\u001b[0m\u001b[1;33m\u001b[0m\u001b[1;33m\u001b[0m\u001b[0m\n\u001b[0;32m   1419\u001b[0m             \u001b[1;32mtry\u001b[0m\u001b[1;33m:\u001b[0m\u001b[1;33m\u001b[0m\u001b[1;33m\u001b[0m\u001b[0m\n\u001b[1;32m-> 1420\u001b[1;33m                 hp, ht, pid, tid = _winapi.CreateProcess(executable, args,\n\u001b[0m\u001b[0;32m   1421\u001b[0m                                          \u001b[1;31m# no special security\u001b[0m\u001b[1;33m\u001b[0m\u001b[1;33m\u001b[0m\u001b[0m\n\u001b[0;32m   1422\u001b[0m                                          \u001b[1;32mNone\u001b[0m\u001b[1;33m,\u001b[0m \u001b[1;32mNone\u001b[0m\u001b[1;33m,\u001b[0m\u001b[1;33m\u001b[0m\u001b[1;33m\u001b[0m\u001b[0m\n",
      "\u001b[1;31mOSError\u001b[0m: [WinError 193] %1 is not a valid Win32 application"
     ]
    }
   ],
   "source": [
    "\n"
   ]
  },
  {
   "cell_type": "code",
   "execution_count": null,
   "id": "7bf22a7e",
   "metadata": {},
   "outputs": [],
   "source": []
  },
  {
   "cell_type": "code",
   "execution_count": null,
   "id": "e39821e5",
   "metadata": {},
   "outputs": [],
   "source": []
  },
  {
   "cell_type": "code",
   "execution_count": null,
   "id": "d28b0307",
   "metadata": {},
   "outputs": [],
   "source": []
  }
 ],
 "metadata": {
  "kernelspec": {
   "display_name": "Python 3 (ipykernel)",
   "language": "python",
   "name": "python3"
  },
  "language_info": {
   "codemirror_mode": {
    "name": "ipython",
    "version": 3
   },
   "file_extension": ".py",
   "mimetype": "text/x-python",
   "name": "python",
   "nbconvert_exporter": "python",
   "pygments_lexer": "ipython3",
   "version": "3.9.13"
  }
 },
 "nbformat": 4,
 "nbformat_minor": 5
}
